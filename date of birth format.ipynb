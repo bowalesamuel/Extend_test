{
 "cells": [
  {
   "cell_type": "code",
   "execution_count": 1,
   "id": "d84f40bf",
   "metadata": {},
   "outputs": [],
   "source": [
    "import pandas as pd"
   ]
  },
  {
   "cell_type": "code",
   "execution_count": 2,
   "id": "fe1dbb60",
   "metadata": {},
   "outputs": [],
   "source": [
    "df = pd.read_csv(\"Loan_applicants_check.csv\")"
   ]
  },
  {
   "cell_type": "code",
   "execution_count": 3,
   "id": "742d3588",
   "metadata": {},
   "outputs": [
    {
     "data": {
      "text/plain": [
       "0      November 1967\n",
       "1           May 1965\n",
       "2        August 1980\n",
       "3       January 1974\n",
       "4         March 1977\n",
       "5           May 1976\n",
       "6         April 1974\n",
       "7          July 1963\n",
       "8           May 1959\n",
       "9          June 1973\n",
       "10        March 1983\n",
       "11       August 1966\n",
       "12         July 1958\n",
       "13          May 1987\n",
       "14    September 1977\n",
       "15       August 1990\n",
       "16     December 1965\n",
       "Name: dob, dtype: object"
      ]
     },
     "execution_count": 3,
     "metadata": {},
     "output_type": "execute_result"
    }
   ],
   "source": [
    "df['dob']"
   ]
  },
  {
   "cell_type": "code",
   "execution_count": 4,
   "id": "28826174",
   "metadata": {},
   "outputs": [],
   "source": [
    "df['dob'] = pd.to_datetime(df['dob'], errors='coerce')"
   ]
  },
  {
   "cell_type": "code",
   "execution_count": 2,
   "id": "d96ee042",
   "metadata": {},
   "outputs": [
    {
     "name": "stderr",
     "output_type": "stream",
     "text": [
      "C:\\ProgramData\\Miniconda3\\lib\\site-packages\\pandas\\core\\arrays\\datetimes.py:2199: FutureWarning: The parsing of 'now' in pd.to_datetime without `utc=True` is deprecated. In a future version, this will match Timestamp('now') and Timestamp.now()\n",
      "  result, tz_parsed = tslib.array_to_datetime(\n"
     ]
    }
   ],
   "source": [
    "now = pd.to_datetime('now', format=\"%m-\")"
   ]
  },
  {
   "cell_type": "code",
   "execution_count": 6,
   "id": "f35aee06",
   "metadata": {},
   "outputs": [],
   "source": [
    "df['Age'] = (now.year - df['dob'].dt.year) - ((now.month - df['dob'].dt.month) < 0)"
   ]
  },
  {
   "cell_type": "code",
   "execution_count": 7,
   "id": "c65fc03a",
   "metadata": {},
   "outputs": [],
   "source": [
    "df.to_csv(\"Loan_applicants_check_age.csv\", index=False)"
   ]
  },
  {
   "cell_type": "code",
   "execution_count": 5,
   "id": "839ee8e7",
   "metadata": {},
   "outputs": [
    {
     "data": {
      "text/plain": [
       "Timestamp('2023-01-10 10:24:42.444517')"
      ]
     },
     "execution_count": 5,
     "metadata": {},
     "output_type": "execute_result"
    }
   ],
   "source": [
    "now"
   ]
  },
  {
   "cell_type": "code",
   "execution_count": 9,
   "id": "2aa307e2",
   "metadata": {},
   "outputs": [
    {
     "data": {
      "text/plain": [
       "2022"
      ]
     },
     "execution_count": 9,
     "metadata": {},
     "output_type": "execute_result"
    }
   ],
   "source": [
    "pd.to_datetime(\"2022\", errors='coerce').year"
   ]
  },
  {
   "cell_type": "code",
   "execution_count": null,
   "id": "6825e299",
   "metadata": {},
   "outputs": [],
   "source": []
  }
 ],
 "metadata": {
  "kernelspec": {
   "display_name": "Python 3 (ipykernel)",
   "language": "python",
   "name": "python3"
  },
  "language_info": {
   "codemirror_mode": {
    "name": "ipython",
    "version": 3
   },
   "file_extension": ".py",
   "mimetype": "text/x-python",
   "name": "python",
   "nbconvert_exporter": "python",
   "pygments_lexer": "ipython3",
   "version": "3.8.10"
  }
 },
 "nbformat": 4,
 "nbformat_minor": 5
}
