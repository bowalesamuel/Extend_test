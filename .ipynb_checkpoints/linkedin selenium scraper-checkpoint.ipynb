{
 "cells": [
  {
   "cell_type": "code",
   "execution_count": 16,
   "id": "6a5322e2",
   "metadata": {},
   "outputs": [],
   "source": [
    "import os\n",
    "import io\n",
    "import math\n",
    "\n",
    "import pandas as pd\n",
    "import numpy as np\n",
    "\n",
    "import selenium\n",
    "from selenium import webdriver\n",
    "from selenium.webdriver.chrome.options import Options\n",
    "from selenium.webdriver.common.by import By\n",
    "from selenium.webdriver.common.keys import Keys\n",
    "\n",
    "import requests\n",
    "import time\n",
    "import warnings\n",
    "\n",
    "from PIL import Image"
   ]
  },
  {
   "cell_type": "code",
   "execution_count": 2,
   "id": "283a2b35",
   "metadata": {},
   "outputs": [],
   "source": [
    "warnings.filterwarnings('ignore')"
   ]
  },
  {
   "cell_type": "code",
   "execution_count": 3,
   "id": "36284b35",
   "metadata": {},
   "outputs": [],
   "source": [
    "df = pd.read_csv('Loan_funders_check_linkedin.csv')\n",
    "link_url = df['linkedin_profile_url'].tolist()"
   ]
  },
  {
   "cell_type": "code",
   "execution_count": 4,
   "id": "8d9a1065",
   "metadata": {},
   "outputs": [],
   "source": [
    "#ChromeOptions sets chromedriver startup options\n",
    "chrome_options = webdriver.ChromeOptions()\n",
    "# path to the user default profile\n",
    "chrome_options.add_argument(r'user-data-dir=C:\\Users\\Asus\\AppData\\Local\\Google\\Chrome\\User Data\\Default')"
   ]
  },
  {
   "cell_type": "code",
   "execution_count": 5,
   "id": "f5109c72",
   "metadata": {},
   "outputs": [],
   "source": [
    "driver = webdriver.Chrome('chromedriver.exe', options=chrome_options)"
   ]
  },
  {
   "cell_type": "code",
   "execution_count": 22,
   "id": "79aa17b1",
   "metadata": {},
   "outputs": [],
   "source": [
    "driver.quit()"
   ]
  },
  {
   "cell_type": "code",
   "execution_count": 19,
   "id": "4edb75e7",
   "metadata": {},
   "outputs": [],
   "source": [
    "image_link_list = name_list = schools_lists = \\\n",
    "info_list = basic_info_list = image_links = \\\n",
    "names = image_filenames = []"
   ]
  },
  {
   "cell_type": "code",
   "execution_count": null,
   "id": "b29b3a69",
   "metadata": {},
   "outputs": [],
   "source": []
  },
  {
   "cell_type": "code",
   "execution_count": 20,
   "id": "b3f81d5c",
   "metadata": {},
   "outputs": [],
   "source": [
    "ALTERNATE_PAGES = ['https://www.linkedin.com/mynetwork/',\n",
    "              'https://www.linkedin.com/jobs/',]\n",
    "ALTERNATE_IMAGE_LINK = \"https://cdn1.vectorstock.com/i/1000x1000/56/00/avatar-photo-or-profile-photo-placeholder-icon-vector-37925600.jpg\"\n",
    "\n",
    "page_tag_identifier = 'html'\n",
    "\n",
    "image_identifer = 'img.pv-top-card-profile-picture__image'\n",
    "education_identifer = '//span[text()[contains(.,\"Education\")]]/parent::h2/parent::div/parent::div/parent::div/parent::div/following-sibling::div//descendant::ul/li'\n",
    "right_panel_identifier = 'ul.pv-text-details__right-panel'\n",
    "right_panel_span_identifier = 'span'\n",
    "\n",
    "experience_identifer = \"//span[text()[contains(.,'Experience')]]//parent::h2/parent::div/parent::div/parent::div/parent::div/following-sibling::div//child::ul\"\n",
    "\n",
    "left_panel_identifier = 'div.pv-text-details__left-panel'"
   ]
  },
  {
   "cell_type": "code",
   "execution_count": 21,
   "id": "97675d2c",
   "metadata": {},
   "outputs": [],
   "source": [
    "def save_image(src, filename):\n",
    "    image_html = requests.get(src)\n",
    "    content = image_html.content\n",
    "    image_io = io.BytesIO(content)\n",
    "    image_file = Image.open(image_io).convert('RGB')\n",
    "    image_file.save('./linkedin_profile_pictures/{}.jpg'.format(\"Person_\"+filename), 'JPEG')\n",
    "    return \"Person_\"+filename"
   ]
  },
  {
   "cell_type": "code",
   "execution_count": null,
   "id": "a4f02542",
   "metadata": {},
   "outputs": [],
   "source": []
  },
  {
   "cell_type": "code",
   "execution_count": null,
   "id": "b177ef1f",
   "metadata": {},
   "outputs": [],
   "source": [
    "counter = 0"
   ]
  },
  {
   "cell_type": "code",
   "execution_count": null,
   "id": "25ee6255",
   "metadata": {},
   "outputs": [],
   "source": [
    "for index, link in enumerate(link_url[:]):\n",
    "    counter+=1\n",
    "\n",
    "    driver.get(link)\n",
    "    wait = np.random.randint(5,10)\n",
    "    time.sleep(wait)\n",
    "\n",
    "    try:\n",
    "        image_url = [i.get_attribute('src') for i in driver.find_elements(by=By.CSS_SELECTOR, value=image_identifer)]\n",
    "        image_links.append(image_url)\n",
    "        try:\n",
    "            image_link = image_url[0]\n",
    "            link_boolean = image_link.split(\":\")[0].strip() == \"https\"\n",
    "            if link_boolean:\n",
    "                name = save_image(image_link, index)\n",
    "            else:\n",
    "                name = save_image(ALTERNATE_IMAGE_LINK, index)\n",
    "            image_filenames.append(name)\n",
    "        except:\n",
    "            name = save_image(ALTERNATE_IMAGE_LINK, index)\n",
    "            image_filenames.append(name)\n",
    "            \n",
    "\n",
    "    except:\n",
    "        image_links.append('No image found')\n",
    "        name = save_image(ALTERNATE_IMAGE_LINK, index)\n",
    "        image_filenames.append(name)\n",
    "\n",
    "    \n",
    "    try:\n",
    "        left_panel_elements = driver.find_elements_by_css_selector(by=By.CSS_SELECTOR, value=left_panel_identifier)\n",
    "        left_panel_texts = [c.text for c in left_panel_elements]\n",
    "        basic_info_list.append(left_panel_texts)\n",
    "    except:\n",
    "        basic_info_list.append('No left panel data')\n",
    "    \n",
    "\n",
    "    try:\n",
    "        right_panel_element = driver.find_elements(by=By.CSS_SELECTOR, value=right_panel_identifier)[0]\n",
    "        right_panel_span = right_panel.find_elements(by=By.TAG_NAME, value=right_panel_span_identifier)\n",
    "        right_panel_text = [i.text for i in right_panel_span]\n",
    "        info_list.append(right_panel_text)\n",
    "    except:\n",
    "        info_list.append('No right panel data')\n",
    "        \n",
    "\n",
    "    try:\n",
    "        school_elements = driver.find_elements(by=By.XPATH, value=education_identifer)\n",
    "        school_data = [i.text.split(\"\\n\")[0] for i in school_elements]\n",
    "        schools_lists.append(school_data)\n",
    "    except:\n",
    "        schools_lists.append('No school')\n",
    "        \n",
    "    sleep_time = np.random.randint(5,10)\n",
    "    time.sleep(sleep_time)\n",
    "        "
   ]
  },
  {
   "cell_type": "code",
   "execution_count": null,
   "id": "e6a78587",
   "metadata": {},
   "outputs": [],
   "source": []
  },
  {
   "cell_type": "code",
   "execution_count": null,
   "id": "085d7479",
   "metadata": {},
   "outputs": [],
   "source": [
    "names = []\n",
    "role = []\n",
    "city = []\n",
    "for i in basic_info_list:\n",
    "    try:\n",
    "        a = i[0].split('\\n')\n",
    "        b = ' & '.join(a)\n",
    "    except:\n",
    "        a = []\n",
    "    #print(b)\n",
    "    try:\n",
    "        named.append(a[0])\n",
    "    except:\n",
    "        named.append(i)\n",
    "    \n",
    "    try:\n",
    "        role.append(a[1])\n",
    "    except:\n",
    "        role.append(i)\n",
    "    \n",
    "    try:\n",
    "        city.append(i[-1])\n",
    "    except:\n",
    "        city.append(i)\n",
    "        \n",
    "asc = []\n",
    "for i in info_list:\n",
    "    try:\n",
    "        a = i[-1]\n",
    "        asc.append(a)\n",
    "    except:\n",
    "        asc.append(i)\n",
    "        \n",
    "school = []\n",
    "company = []\n",
    "for i in info_list:\n",
    "    if i == 'None':\n",
    "        school.append('None')\n",
    "        company.append('None')\n",
    "    else:\n",
    "        try:\n",
    "            school.append(i[-1])\n",
    "            company.append(i[0])\n",
    "        except:\n",
    "            school.append('None')\n",
    "            company.append('None')"
   ]
  },
  {
   "cell_type": "code",
   "execution_count": 23,
   "id": "2ebf755b",
   "metadata": {},
   "outputs": [],
   "source": [
    "df_data = pd.DataFrame()"
   ]
  },
  {
   "cell_type": "code",
   "execution_count": null,
   "id": "794a3d2e",
   "metadata": {},
   "outputs": [],
   "source": [
    "for i, v,w, x,z, a, b in zip(image_links, names, role, school, company, asc, image_filenames):\n",
    "    data = pd.DataFrame({\n",
    "        'linkedinProfilePicture': i,\n",
    "        'linkedinName': v,\n",
    "        'linkedinRole': w,\n",
    "        'linkedinTopLine1': y,\n",
    "        'linkedinTopLine2': z,\n",
    "        'linkedinEducation': a,\n",
    "        'ImageFileName': b\n",
    "    })\n",
    "    df_data.append(data)"
   ]
  },
  {
   "cell_type": "code",
   "execution_count": null,
   "id": "7329c183",
   "metadata": {},
   "outputs": [],
   "source": []
  },
  {
   "cell_type": "code",
   "execution_count": null,
   "id": "0317922b",
   "metadata": {},
   "outputs": [],
   "source": [
    "df_linkedin = pd.concat([df, df_data])"
   ]
  },
  {
   "cell_type": "code",
   "execution_count": null,
   "id": "0e2bbff3",
   "metadata": {},
   "outputs": [],
   "source": [
    "df_linkedin.to_csv(\"Extend_test.csv\", index=False)"
   ]
  },
  {
   "cell_type": "code",
   "execution_count": null,
   "id": "fcf123eb",
   "metadata": {},
   "outputs": [],
   "source": [
    "driver.quit()"
   ]
  },
  {
   "cell_type": "code",
   "execution_count": null,
   "id": "4358d659",
   "metadata": {},
   "outputs": [],
   "source": []
  }
 ],
 "metadata": {
  "kernelspec": {
   "display_name": "Python 3 (ipykernel)",
   "language": "python",
   "name": "python3"
  },
  "language_info": {
   "codemirror_mode": {
    "name": "ipython",
    "version": 3
   },
   "file_extension": ".py",
   "mimetype": "text/x-python",
   "name": "python",
   "nbconvert_exporter": "python",
   "pygments_lexer": "ipython3",
   "version": "3.8.10"
  }
 },
 "nbformat": 4,
 "nbformat_minor": 5
}
